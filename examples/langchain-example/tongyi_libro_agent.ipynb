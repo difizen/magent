{
 "cells": [
  {
   "cell_type": "code",
   "execution_count": 1,
   "id": "fc30c5bb-db9e-43ca-ba8c-4f49f9811106",
   "metadata": {},
   "outputs": [],
   "source": [
    "import requests\n",
    "from bs4 import BeautifulSoup\n",
    "from typing import List\n",
    "from langchain_community.chat_models.tongyi import ChatTongyi\n",
    "from langchain_community.embeddings import DashScopeEmbeddings\n",
    "from langchain_core.tools import tool\n",
    "from langchain.agents import initialize_agent\n",
    "from langchain.agents import AgentType\n",
    "from langchain.text_splitter import RecursiveCharacterTextSplitter\n",
    "from langchain.vectorstores import FAISS\n",
    "from langchain.schema import Document"
   ]
  },
  {
   "cell_type": "code",
   "execution_count": 2,
   "id": "dd437770-53b6-4ff0-8c2a-7ef0ea186f75",
   "metadata": {},
   "outputs": [],
   "source": [
    "\n",
    "# 读取网页内容\n",
    "def load_webpage(url: str) -> str:\n",
    "    \"\"\"加载网页内容并返回文本\"\"\"\n",
    "    response = requests.get(url)\n",
    "    response.raise_for_status()\n",
    "    soup = BeautifulSoup(response.text, 'html.parser')\n",
    "    paragraphs = soup.find_all('p')\n",
    "    text = \"\\n\".join([para.get_text() for para in paragraphs])\n",
    "    return text\n",
    "\n",
    "def create_vector_store(text: str, chunk_size: int = 1000, chunk_overlap: int = 100) -> FAISS:\n",
    "    \"\"\"创建向量存储\"\"\"\n",
    "    # 文本分割\n",
    "    text_splitter = RecursiveCharacterTextSplitter(\n",
    "        chunk_size=chunk_size,\n",
    "        chunk_overlap=chunk_overlap\n",
    "    )\n",
    "    chunks = text_splitter.split_text(text)\n",
    "    \n",
    "    # 创建文档对象列表\n",
    "    documents = [Document(page_content=chunk) for chunk in chunks]\n",
    "    \n",
    "    # 创建向量存储\n",
    "    embeddings = DashScopeEmbeddings(\n",
    "        model=\"text-embedding-v2\",\n",
    "    )\n",
    "    return FAISS.from_documents(documents, embeddings)\n",
    "\n",
    "# 初始化向量存储\n",
    "url = \"https://medium.com/@libro.development/libro-a-customizable-ai-notebook-ab31bd4197b9\"\n",
    "webpage_content = load_webpage(url)\n",
    "vector_store = create_vector_store(webpage_content)\n"
   ]
  },
  {
   "cell_type": "code",
   "execution_count": null,
   "id": "fd4b9f3e-f474-4892-b768-885c5aabc93c",
   "metadata": {},
   "outputs": [],
   "source": []
  },
  {
   "cell_type": "code",
   "execution_count": 3,
   "id": "2e3b8fb0-6be8-4906-9cce-7828a0189495",
   "metadata": {},
   "outputs": [
    {
     "name": "stderr",
     "output_type": "stream",
     "text": [
      "/var/folders/np/009dffqj74vbz89c1xghgskh0000gp/T/ipykernel_659/3884561080.py:37: LangChainDeprecationWarning: The function `initialize_agent` was deprecated in LangChain 0.1.0 and will be removed in 1.0. Use :meth:`~Use new agent constructor methods like create_react_agent, create_json_agent, create_structured_chat_agent, etc.` instead.\n",
      "  agent = initialize_agent(\n"
     ]
    }
   ],
   "source": [
    "\n",
    "# 设置语言模型\n",
    "llm = ChatTongyi(\n",
    "    model=\"qwen-max\",  # 或选择其他可用模型，如 qwen-turbo, qwen-plus\n",
    "    temperature=0,\n",
    "    max_retries=2,\n",
    ")\n",
    "\n",
    "# 创建RAG工具\n",
    "@tool\n",
    "def rag_query(query: str) -> str:\n",
    "    \"\"\"\n",
    "    从加载的网页数据中检索相关信息并生成响应\n",
    "    :param query: 用户的查询\n",
    "    :return: 基于检索信息生成的响应\n",
    "    \"\"\"\n",
    "    # 获取相关文档\n",
    "    relevant_docs = vector_store.similarity_search(query)\n",
    "    context = \"\\n\".join([doc.page_content for doc in relevant_docs])\n",
    "    \n",
    "    # 构建prompt并获取响应\n",
    "    prompt = f\"\"\"基于以下背景信息回答用户的问题：\n",
    "    \n",
    "背景信息：\n",
    "{context}\n",
    "\n",
    "用户问题：{query}\n",
    "\n",
    "请提供准确、相关的回答：\"\"\"\n",
    "    \n",
    "    response = llm.invoke(prompt)\n",
    "    return response.content\n",
    "\n",
    "# 定义工具列表\n",
    "tools = [rag_query]\n",
    "\n",
    "# 初始化agent\n",
    "agent = initialize_agent(\n",
    "    tools=tools,\n",
    "    llm=llm,\n",
    "    agent=AgentType.ZERO_SHOT_REACT_DESCRIPTION,\n",
    "    verbose=True\n",
    ")"
   ]
  },
  {
   "cell_type": "code",
   "execution_count": 4,
   "id": "5ca58945-0e88-4cad-8c89-6ee591a7b643",
   "metadata": {},
   "outputs": [
    {
     "name": "stdout",
     "output_type": "stream",
     "text": [
      "\n",
      "\n",
      "\u001b[1m> Entering new AgentExecutor chain...\u001b[0m\n",
      "\u001b[32;1m\u001b[1;3m我需要了解\"libro\"具体指的是什么，因为这可能是特定软件、库或其它技术的名称。但根据我的现有知识，\"libro\"在西班牙语中是“书”的意思。如果这里的\"libro\"是指某种特定的技术或者项目的话，那么我可能需要进一步查询相关信息来给出准确的回答。\n",
      "Action: rag_query\n",
      "Action Input: libro的特性\u001b[0m\n",
      "Observation: \u001b[36;1m\u001b[1;3mLibro 是一个高度可定制的笔记本解决方案，旨在支持生成式AI能力，并提供商业级用户体验。它的一些主要特性包括：\n",
      "\n",
      "1. **灵活的场景自定义**：用户可以根据自己的需求自由组合Libro的原生模块，以实现个性化的应用场景配置。\n",
      "\n",
      "2. **丰富的附加功能集**：除了基础的功能外，Libro还提供了许多额外的工具和服务来增强用户的开发体验。\n",
      "\n",
      "3. **开放框架**：对于那些希望进行二次开发或深度定制的用户来说，Libro提供了一个开放框架，允许对UI界面及执行内核等各个层面进行修改。\n",
      "\n",
      "4. **AI工作流集成**：通过Prompt Cells（提示单元格），用户能够将AI技术无缝地融入到笔记本的执行逻辑中，从而构建出流畅的人工智能工作流程。此外，解释器模式让用户可以通过自然语言与笔记本交互，从而生成所需的结果。\n",
      "\n",
      "5. **多样的产品形态**：Libro不仅可以用作文档编辑器，还可以作为报告展示工具使用，非常适合快速创建演示文稿或汇报材料。\n",
      "\n",
      "6. **易于数据整合**：Libro内置了SQL单元格功能，使得直接在笔记本文档中执行数据库查询变得非常简便。只需要简单的设置就可以连接至个人数据库，并且可以在SQL语句中引用Python上下文变量，查询结果也可以直接作为DataFrame对象处理。\n",
      "\n",
      "7. **全功能代码编辑器**：Libro为用户提供了一款功能齐全的代码编辑环境，有助于提高编程效率并简化代码审查过程。\n",
      "\n",
      "8. **持续创新与发展**：项目团队致力于探索更多关于大型模型集成的应用场景，努力让Libro成为最优秀的笔记本产品之一，在用户体验方面达到顶尖水平。\n",
      "\n",
      "9. **开源社区参与**：欢迎来自不同背景的开发者加入Libro项目的建设之中，共同推动其进步和发展。官方GitHub仓库地址为 https://github.com/difizen/libro 。\n",
      "\n",
      "总之，Libro是一款面向未来、注重用户体验并且紧密融合最新AI技术的高级笔记本应用。\u001b[0m\n",
      "Thought:\u001b[32;1m\u001b[1;3m我现在知道了Libro的主要特性。它是一个高度可定制的笔记本解决方案，专注于提供生成式AI能力及商业级用户体验。其特点涵盖了从灵活自定义场景到丰富的附加功能集，再到开放框架支持二次开发等多个方面。\n",
      "\n",
      "Final Answer: Libro 是一个面向未来的高级笔记本应用，它的主要特性包括：灵活的场景自定义、丰富的附加功能集、开放框架允许深度定制、AI工作流集成（如通过Prompt Cells和解释器模式）、多样化的使用形态（既可作为文档编辑器也能用于报告展示）、易于数据整合（内置SQL单元格）、全功能代码编辑器以及持续的产品创新与开源社区的支持。这些特性共同使Libro成为一个强大的工具，适用于需要高效开发环境和强大AI集成能力的各种用户。\u001b[0m\n",
      "\n",
      "\u001b[1m> Finished chain.\u001b[0m\n"
     ]
    }
   ],
   "source": [
    "response = agent.invoke(\"libro有哪些特性？\")"
   ]
  },
  {
   "cell_type": "code",
   "execution_count": null,
   "id": "a52f2803-582c-4212-9225-6e0e237de72a",
   "metadata": {},
   "outputs": [
    {
     "name": "stderr",
     "output_type": "stream",
     "text": [
      "INFO:     Current log level is\n",
      "INFO:     Started server process [659]\n",
      "INFO:     Waiting for application startup.\n",
      "INFO:     Server is running at http://localhost:9563/\n"
     ]
    },
    {
     "data": {
      "text/html": [
       "<h2>Server is running at: <a href='http://localhost:9563/'>http://localhost:9563/</a></h2>"
      ],
      "text/plain": [
       "<IPython.core.display.HTML object>"
      ]
     },
     "metadata": {},
     "output_type": "display_data"
    },
    {
     "data": {
      "image/png": "[encoded data removed]",
      "text/plain": [
       "<IPython.core.display.Image object>"
      ]
     },
     "metadata": {},
     "output_type": "display_data"
    },
    {
     "name": "stderr",
     "output_type": "stream",
     "text": [
      "INFO:     Application startup complete.\n",
      "INFO:     Uvicorn running on http://0.0.0.0:9563 (Press CTRL+C to quit)\n"
     ]
    },
    {
     "name": "stdout",
     "output_type": "stream",
     "text": [
      "INFO:     127.0.0.1:51743 - \"GET / HTTP/1.1\" 307 Temporary Redirect\n",
      "INFO:     127.0.0.1:51743 - \"GET /app/ HTTP/1.1\" 200 OK\n",
      "INFO:     127.0.0.1:51744 - \"POST /api/v1/chat-stream HTTP/1.1\" 200 OK\n",
      "\n",
      "\n",
      "\u001b[1m> Entering new None chain...\u001b[0m\n",
      "\u001b[32;1m\u001b[1;3m我需要理解\"libro\"具体指的是什么，因为这个词汇在不同的上下文中可能有不同的含义。它可能是某个特定软件、库或者产品的名称。不过，根据问题的中文表述，“libro”很可能是指一种技术或产品，并且询问的是该技术/产品的特性。由于直接信息不足，我将尝试使用rag_query工具来搜索关于“libro”的相关信息。\n",
      "Action: rag_query\n",
      "Action Input: libro 特性\u001b[0mINFO:     127.0.0.1:51869 - \"GET /static/stream.js.map HTTP/1.1\" 404 Not Found\n",
      "\n",
      "Observation: \u001b[36;1m\u001b[1;3mLibro 是一个高度可定制的笔记本解决方案，旨在支持生成式AI能力，并提供商业级用户体验。以下是Libro的一些主要特性：\n",
      "\n",
      "1. **灵活易集成**：Libro允许用户根据自身需求自由组合其原生模块，具有强大的场景定制能力。它还提供了开放框架用于自定义UI和执行内核，在所有模块层面上支持二次开发和定制。\n",
      "\n",
      "2. **AI工作流**：\n",
      "   - **提示单元（Prompt Cells）**：通过提示单元，用户可以将AI集成到笔记本的执行逻辑中，实现无缝的AI工作流。\n",
      "   - **解释器模式**：这种模式让用户能够使用自然语言与笔记本互动，从而生成所需的结果，极大简化了编程过程。\n",
      "\n",
      "3. **多种产品形态**：Libro不仅可用作文档编辑器，还能作为报告展示工具，非常适合创建演示文稿或报告。\n",
      "\n",
      "4. **轻松的数据整合**：通过SQL单元格，Libro让用户能够方便地执行数据操作。只需简单配置即可连接到自己的数据库；并且可以在SQL中使用Python上下文变量，查询结果可以直接作为DataFrame继续处理，确保了一个流畅高效的数据工作流程。\n",
      "\n",
      "5. **全功能代码编辑器**：虽然背景信息中没有详细说明这一点的具体内容，但提到Libro提供了一个全功能的代码编辑环境，这意味着它很可能包含了语法高亮、自动完成等高级编辑功能，以增强编码效率。\n",
      "\n",
      "6. **支持大型模型应用**：Libro致力于探索与大型模型结合的应用案例，旨在为用户提供更加智能的编程体验，使得在Libro中的编程就像撰写文档一样简单直观。\n",
      "\n",
      "7. **社区驱动的发展**：Libro鼓励来自不同应用场景的开发者加入项目共建，共同推动产品的进步与发展。其开源项目托管于GitHub上，任何人都可以参与贡献或直接使用该项目。\n",
      "\n",
      "综上所述，Libro通过引入创新性的AI集成以及优化传统笔记本的功能，为数据科学和人工智能领域的专业人士提供了一个强大而灵活的工作平台。\u001b[0m\n",
      "Thought:\u001b[32;1m\u001b[1;3m现在我已经了解到Libro的一些关键特性，包括其灵活性、AI工作流的支持能力、多种产品形态、数据整合的便利性、全功能代码编辑环境以及对大型模型应用的支持等。基于这些信息，我可以给出一个综合性的回答。\n",
      "Final Answer: Libro是一款专为生成式AI设计的高度可定制笔记本解决方案，具有以下主要特性：\n",
      "\n",
      "- **灵活易集成**：允许用户根据需求自由组合原生模块，并支持在所有层面进行二次开发和定制。\n",
      "- **AI工作流**：通过提示单元将AI集成进执行逻辑中；解释器模式让用户能够以自然语言与系统互动。\n",
      "- **多用途**：既可用作文档编辑器，也能作为报告展示工具使用。\n",
      "- **轻松的数据整合**：内置SQL单元格简化了数据库连接及操作过程。\n",
      "- **全功能代码编辑器**：提供包括语法高亮在内的高级编辑功能来提高编码效率。\n",
      "- **支持大型模型应用**：探索如何更好地与大型模型结合，提升用户体验。\n",
      "- **社区驱动的发展**：鼓励社区成员参与项目共建，促进持续改进。\n",
      "\n",
      "这些特性使得Libro成为了一个非常适合数据科学和人工智能领域专业人士使用的强大平台。\u001b[0m\n",
      "\n",
      "\u001b[1m> Finished chain.\u001b[0m\n"
     ]
    }
   ],
   "source": [
    "import sys\n",
    "sys.path.append(\"/Users/johnny/Code/difizen/magent/packages/magent-ui-langchain/src\")\n",
    "\n",
    "from magent_ui_langchain import launch\n",
    "launch(agent)"
   ]
  },
  {
   "cell_type": "code",
   "execution_count": null,
   "id": "4a31c577-eca1-4965-a71a-a805aad16fe2",
   "metadata": {},
   "outputs": [],
   "source": []
  }
 ],
 "metadata": {
  "kernelspec": {
   "display_name": "test",
   "language": "python",
   "name": "test"
  },
  "language_info": {
   "codemirror_mode": {
    "name": "ipython",
    "version": 3
   },
   "file_extension": ".py",
   "mimetype": "text/x-python",
   "name": "python",
   "nbconvert_exporter": "python",
   "pygments_lexer": "ipython3",
   "version": "3.11.5"
  }
 },
 "nbformat": 4,
 "nbformat_minor": 5
}
