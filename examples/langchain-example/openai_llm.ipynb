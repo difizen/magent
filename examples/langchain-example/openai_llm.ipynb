{
 "cells": [
  {
   "cell_type": "code",
   "execution_count": 2,
   "id": "0d3d6934-fdf9-4671-9cb9-3b0c362ce075",
   "metadata": {
    "execution": {
     "shell.execute_reply.end": "2024-11-19T05:30:00.667702Z",
     "shell.execute_reply.started": "2024-11-19T05:30:00.170539Z",
     "to_execute": "2024-11-19T05:30:00.193Z"
    },
    "libroFormatter": "formatter-string"
   },
   "outputs": [
    {
     "data": {
      "text/plain": [
       "ChatOpenAI(client=<openai.resources.chat.completions.Completions object at 0x1223a4fd0>, async_client=<openai.resources.chat.completions.AsyncCompletions object at 0x12238c610>, root_client=<openai.OpenAI object at 0x12109d700>, root_async_client=<openai.AsyncOpenAI object at 0x1223870d0>, model_name='gpt-4o', temperature=0.0, model_kwargs={}, openai_api_key=SecretStr('**********'))"
      ]
     },
     "execution_count": 2,
     "metadata": {},
     "output_type": "execute_result"
    }
   ],
   "source": [
    "from langchain_openai import ChatOpenAI\n",
    "\n",
    "llm = ChatOpenAI(\n",
    "    model=\"gpt-4o\",\n",
    "    temperature=0,\n",
    "    max_tokens=None,\n",
    "    timeout=None,\n",
    "    max_retries=2,\n",
    ")\n",
    "llm"
   ]
  },
  {
   "cell_type": "code",
   "execution_count": 3,
   "id": "462a8826-21f7-4606-893b-92c15f631a1e",
   "metadata": {
    "execution": {
     "shell.execute_reply.end": "2024-11-19T05:30:01.135926Z",
     "shell.execute_reply.started": "2024-11-19T05:30:01.131959Z",
     "to_execute": "2024-11-19T05:30:01.179Z"
    },
    "libroFormatter": "formatter-string"
   },
   "outputs": [
    {
     "data": {
      "text/plain": [
       "'gpt-4o'"
      ]
     },
     "execution_count": 3,
     "metadata": {},
     "output_type": "execute_result"
    }
   ],
   "source": [
    "llm.model_name"
   ]
  },
  {
   "cell_type": "code",
   "execution_count": 12,
   "id": "05628fd8-eb87-48f4-9ce5-cce1aa42f6ec",
   "metadata": {
    "execution": {
     "shell.execute_reply.end": "2024-11-19T05:45:27.622599Z",
     "shell.execute_reply.started": "2024-11-19T05:45:26.592294Z",
     "to_execute": "2024-11-19T05:45:26.657Z"
    },
    "libroFormatter": "formatter-string"
   },
   "outputs": [
    {
     "name": "stdout",
     "output_type": "stream",
     "text": [
      "content='' additional_kwargs={} response_metadata={} id='run-a6ddf224-d279-44dd-884c-5947e091c11b'\n",
      "content='Hello' additional_kwargs={} response_metadata={} id='run-a6ddf224-d279-44dd-884c-5947e091c11b'\n",
      "content='!' additional_kwargs={} response_metadata={} id='run-a6ddf224-d279-44dd-884c-5947e091c11b'\n",
      "content=' How' additional_kwargs={} response_metadata={} id='run-a6ddf224-d279-44dd-884c-5947e091c11b'\n",
      "content=' can' additional_kwargs={} response_metadata={} id='run-a6ddf224-d279-44dd-884c-5947e091c11b'\n",
      "content=' I' additional_kwargs={} response_metadata={} id='run-a6ddf224-d279-44dd-884c-5947e091c11b'\n",
      "content=' assist' additional_kwargs={} response_metadata={} id='run-a6ddf224-d279-44dd-884c-5947e091c11b'\n",
      "content=' you' additional_kwargs={} response_metadata={} id='run-a6ddf224-d279-44dd-884c-5947e091c11b'\n",
      "content=' today' additional_kwargs={} response_metadata={} id='run-a6ddf224-d279-44dd-884c-5947e091c11b'\n",
      "content='?' additional_kwargs={} response_metadata={} id='run-a6ddf224-d279-44dd-884c-5947e091c11b'\n",
      "content='' additional_kwargs={} response_metadata={'finish_reason': 'stop', 'model_name': 'gpt-4o-2024-08-06', 'system_fingerprint': 'fp_7f6be3efb0'} id='run-a6ddf224-d279-44dd-884c-5947e091c11b'\n"
     ]
    },
    {
     "data": {
      "text/plain": [
       "AIMessageChunk(content='Hello! How can I assist you today?', additional_kwargs={}, response_metadata={'finish_reason': 'stop', 'model_name': 'gpt-4o-2024-08-06', 'system_fingerprint': 'fp_7f6be3efb0'}, id='run-a6ddf224-d279-44dd-884c-5947e091c11b')"
      ]
     },
     "execution_count": 12,
     "metadata": {},
     "output_type": "execute_result"
    }
   ],
   "source": [
    "msg_iterator = llm.stream('hi')\n",
    "\n",
    "first = True\n",
    "gathered = None\n",
    "for chunk in msg_iterator:\n",
    "    print(chunk)\n",
    "    if first:\n",
    "        gathered = chunk\n",
    "        first = False\n",
    "    else:\n",
    "        gathered = gathered + chunk\n",
    "gathered"
   ]
  },
  {
   "cell_type": "code",
   "execution_count": 13,
   "id": "0a7d8650-52e8-4589-bc3d-4861c9f2a793",
   "metadata": {
    "execution": {
     "shell.execute_reply.end": "2024-11-19T07:10:58.824230Z",
     "shell.execute_reply.started": "2024-11-19T07:10:57.643149Z",
     "to_execute": "2024-11-19T07:10:57.720Z"
    },
    "libroFormatter": "formatter-string"
   },
   "outputs": [
    {
     "data": {
      "text/plain": [
       "AIMessage(content='Hello! How can I assist you today?', additional_kwargs={'refusal': None}, response_metadata={'token_usage': {'completion_tokens': 9, 'prompt_tokens': 8, 'total_tokens': 17, 'completion_tokens_details': {'audio_tokens': 0, 'reasoning_tokens': 0, 'accepted_prediction_tokens': 0, 'rejected_prediction_tokens': 0}, 'prompt_tokens_details': {'audio_tokens': 0, 'cached_tokens': 0}}, 'model_name': 'gpt-4o-2024-08-06', 'system_fingerprint': 'fp_9ee9e968ea', 'finish_reason': 'stop', 'logprobs': None}, id='run-5633a3bf-3ecd-4a6e-a26c-4b6ae3fac2b0-0', usage_metadata={'input_tokens': 8, 'output_tokens': 9, 'total_tokens': 17, 'input_token_details': {'audio': 0, 'cache_read': 0}, 'output_token_details': {'audio': 0, 'reasoning': 0}})"
      ]
     },
     "execution_count": 13,
     "metadata": {},
     "output_type": "execute_result"
    }
   ],
   "source": [
    "msg = llm.invoke('hi')\n",
    "msg"
   ]
  },
  {
   "cell_type": "code",
   "execution_count": 1,
   "id": "c7e9afc2-c484-4a67-8e6e-9ffcb3a40353",
   "metadata": {
    "execution": {
     "shell.execute_reply.end": "2024-11-19T02:24:02.555064Z",
     "shell.execute_reply.started": "2024-11-19T02:24:01.695757Z",
     "to_execute": "2024-11-19T02:24:01.756Z"
    },
    "libroFormatter": "formatter-string"
   },
   "outputs": [
    {
     "data": {
      "text/plain": [
       "ChatTongyi(client=<class 'dashscope.aigc.multimodal_conversation.MultiModalConversation'>, model_name='qwen-vl-max', model_kwargs={}, dashscope_api_key=SecretStr('**********'), max_retries=2)"
      ]
     },
     "execution_count": 1,
     "metadata": {},
     "output_type": "execute_result"
    }
   ],
   "source": [
    "from langchain_community.chat_models.tongyi import ChatTongyi\n",
    "\n",
    "tongyi_chat = ChatTongyi(\n",
    "    model=\"qwen-vl-max\",\n",
    "    max_retries=2,\n",
    ")  #\n",
    "tongyi_chat"
   ]
  },
  {
   "cell_type": "code",
   "execution_count": null,
   "id": "f19fe055-7850-4d01-9d49-4e93b54eb9b5",
   "metadata": {
    "execution": {},
    "libroFormatter": "formatter-string"
   },
   "outputs": [],
   "source": []
  }
 ],
 "metadata": {},
 "nbformat": 4,
 "nbformat_minor": 5
}
