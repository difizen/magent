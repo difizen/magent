{
 "cells": [
  {
   "cell_type": "code",
   "execution_count": 2,
   "id": "c4cee95e-300c-46f7-80c9-8758fc41aa0b",
   "metadata": {
    "execution": {
     "shell.execute_reply.end": "2024-11-19T05:45:41.025692Z",
     "shell.execute_reply.started": "2024-11-19T05:45:39.651334Z",
     "to_execute": "2024-11-19T05:45:39.726Z"
    },
    "libroFormatter": "formatter-string"
   },
   "outputs": [
    {
     "data": {
      "text/plain": [
       "RunnableBinding(bound=ChatOpenAI(client=<openai.resources.chat.completions.Completions object at 0x10cdf0190>, async_client=<openai.resources.chat.completions.AsyncCompletions object at 0x10cd9a7c0>, root_client=<openai.OpenAI object at 0x1063e73d0>, root_async_client=<openai.AsyncOpenAI object at 0x10cdf01f0>, model_name='gpt-4o', temperature=0.0, model_kwargs={}, openai_api_key=SecretStr('**********')), kwargs={'tools': [{'type': 'function', 'function': {'name': 'hash_string', 'description': 'This function to get the hash value of a word.\\n\\n:param input_string: The string to be hashed\\n:return: The hash value of the input string', 'parameters': {'properties': {'word': {'type': 'string'}}, 'required': ['word'], 'type': 'object'}}}]}, config={}, config_factories=[])"
      ]
     },
     "execution_count": 2,
     "metadata": {},
     "output_type": "execute_result"
    }
   ],
   "source": [
    "from langchain_openai import ChatOpenAI\n",
    "from langchain_core.tools import tool\n",
    "\n",
    "\n",
    "@tool\n",
    "def hash_string(word:str):\n",
    "    \"\"\"\n",
    "    This function to get the hash value of a word.\n",
    "\n",
    "    :param input_string: The string to be hashed\n",
    "    :return: The hash value of the input string\n",
    "    \"\"\"\n",
    "    import hashlib\n",
    "    hash_object = hashlib.sha256()\n",
    "    hash_object.update(word.encode())\n",
    "    hash_value = hash_object.hexdigest()\n",
    "    return hash_value\n",
    "\n",
    "\n",
    "llm = ChatOpenAI(\n",
    "    model=\"gpt-4o\",\n",
    "    temperature=0,\n",
    "    max_tokens=None,\n",
    "    timeout=None,\n",
    "    max_retries=2,\n",
    ")\n",
    "\n",
    "\n",
    "llm_with_tools = llm.bind_tools(\n",
    "    [hash_string])\n",
    "\n",
    "llm_with_tools"
   ]
  },
  {
   "cell_type": "code",
   "execution_count": 3,
   "id": "06bd87c4-d7ee-40b0-b21d-eb2e6834fd2b",
   "metadata": {
    "execution": {
     "shell.execute_reply.end": "2024-11-19T05:45:41.028736Z",
     "shell.execute_reply.started": "2024-11-19T05:45:41.026742Z",
     "to_execute": "2024-11-19T05:45:41.034Z"
    },
    "libroFormatter": "formatter-string"
   },
   "outputs": [
    {
     "data": {
      "text/plain": [
       "ChatOpenAI(client=<openai.resources.chat.completions.Completions object at 0x10cdf0190>, async_client=<openai.resources.chat.completions.AsyncCompletions object at 0x10cd9a7c0>, root_client=<openai.OpenAI object at 0x1063e73d0>, root_async_client=<openai.AsyncOpenAI object at 0x10cdf01f0>, model_name='gpt-4o', temperature=0.0, model_kwargs={}, openai_api_key=SecretStr('**********'))"
      ]
     },
     "execution_count": 3,
     "metadata": {},
     "output_type": "execute_result"
    }
   ],
   "source": [
    "llm_with_tools.bound"
   ]
  },
  {
   "cell_type": "code",
   "execution_count": null,
   "id": "4b51a53e-2080-40b0-9cb1-f2533842df26",
   "metadata": {
    "libroFormatter": "formatter-string"
   },
   "outputs": [],
   "source": [
    "from langchain_core.messages import  BaseMessageChunk\n",
    "msg_iterator=llm_with_tools.stream('Get the hash value of the follow word, \"hello\"')\n",
    "\n",
    "\n",
    "first = True\n",
    "gathered = None\n",
    "for chunk in msg_iterator:\n",
    "    print(chunk)\n",
    "    print('---', isinstance(chunk, BaseMessageChunk))\n",
    "    if first:\n",
    "        gathered = chunk\n",
    "        first = False\n",
    "    else:\n",
    "        gathered = gathered + chunk\n",
    "gathered"
   ]
  },
  {
   "cell_type": "code",
   "execution_count": 6,
   "id": "b45d1b14-134a-4b49-a881-ba4f2370e0ed",
   "metadata": {
    "execution": {
     "shell.execute_reply.end": "2024-11-19T06:16:13.329345Z",
     "shell.execute_reply.started": "2024-11-19T06:16:12.257952Z",
     "to_execute": "2024-11-19T06:16:12.340Z"
    },
    "libroFormatter": "formatter-string"
   },
   "outputs": [
    {
     "name": "stdout",
     "output_type": "stream",
     "text": [
      "content='' additional_kwargs={'tool_calls': [{'index': 0, 'id': 'call_p8hKiMLc4KDG8FKZB4ow7qAH', 'function': {'arguments': '', 'name': 'hash_string'}, 'type': 'function'}]} response_metadata={} id='run-7713a9de-5723-4bac-8b2d-479d7769ec4c' tool_calls=[{'name': 'hash_string', 'args': {}, 'id': 'call_p8hKiMLc4KDG8FKZB4ow7qAH', 'type': 'tool_call'}] tool_call_chunks=[{'name': 'hash_string', 'args': '', 'id': 'call_p8hKiMLc4KDG8FKZB4ow7qAH', 'index': 0, 'type': 'tool_call_chunk'}]\n",
      "--- True\n",
      "content='' additional_kwargs={'tool_calls': [{'index': 0, 'id': None, 'function': {'arguments': '{\"', 'name': None}, 'type': None}]} response_metadata={} id='run-7713a9de-5723-4bac-8b2d-479d7769ec4c' tool_calls=[{'name': '', 'args': {}, 'id': None, 'type': 'tool_call'}] tool_call_chunks=[{'name': None, 'args': '{\"', 'id': None, 'index': 0, 'type': 'tool_call_chunk'}]\n",
      "--- True\n",
      "content='' additional_kwargs={'tool_calls': [{'index': 0, 'id': None, 'function': {'arguments': 'word', 'name': None}, 'type': None}]} response_metadata={} id='run-7713a9de-5723-4bac-8b2d-479d7769ec4c' invalid_tool_calls=[{'name': None, 'args': 'word', 'id': None, 'error': None, 'type': 'invalid_tool_call'}] tool_call_chunks=[{'name': None, 'args': 'word', 'id': None, 'index': 0, 'type': 'tool_call_chunk'}]\n",
      "--- True\n",
      "content='' additional_kwargs={'tool_calls': [{'index': 0, 'id': None, 'function': {'arguments': '\":\"', 'name': None}, 'type': None}]} response_metadata={} id='run-7713a9de-5723-4bac-8b2d-479d7769ec4c' invalid_tool_calls=[{'name': None, 'args': '\":\"', 'id': None, 'error': None, 'type': 'invalid_tool_call'}] tool_call_chunks=[{'name': None, 'args': '\":\"', 'id': None, 'index': 0, 'type': 'tool_call_chunk'}]\n",
      "--- True\n",
      "content='' additional_kwargs={'tool_calls': [{'index': 0, 'id': None, 'function': {'arguments': 'hello', 'name': None}, 'type': None}]} response_metadata={} id='run-7713a9de-5723-4bac-8b2d-479d7769ec4c' invalid_tool_calls=[{'name': None, 'args': 'hello', 'id': None, 'error': None, 'type': 'invalid_tool_call'}] tool_call_chunks=[{'name': None, 'args': 'hello', 'id': None, 'index': 0, 'type': 'tool_call_chunk'}]\n",
      "--- True\n",
      "content='' additional_kwargs={'tool_calls': [{'index': 0, 'id': None, 'function': {'arguments': '\"}', 'name': None}, 'type': None}]} response_metadata={} id='run-7713a9de-5723-4bac-8b2d-479d7769ec4c' invalid_tool_calls=[{'name': None, 'args': '\"}', 'id': None, 'error': None, 'type': 'invalid_tool_call'}] tool_call_chunks=[{'name': None, 'args': '\"}', 'id': None, 'index': 0, 'type': 'tool_call_chunk'}]\n",
      "--- True\n",
      "content='' additional_kwargs={} response_metadata={'finish_reason': 'tool_calls', 'model_name': 'gpt-4o-2024-08-06', 'system_fingerprint': 'fp_45cf54deae'} id='run-7713a9de-5723-4bac-8b2d-479d7769ec4c'\n",
      "--- True\n"
     ]
    },
    {
     "data": {
      "text/plain": [
       "AIMessageChunk(content='', additional_kwargs={'tool_calls': [{'index': 0, 'id': 'call_p8hKiMLc4KDG8FKZB4ow7qAH', 'function': {'arguments': '{\"word\":\"hello\"}', 'name': 'hash_string'}, 'type': 'function'}]}, response_metadata={'finish_reason': 'tool_calls', 'model_name': 'gpt-4o-2024-08-06', 'system_fingerprint': 'fp_45cf54deae'}, id='run-7713a9de-5723-4bac-8b2d-479d7769ec4c', tool_calls=[{'name': 'hash_string', 'args': {'word': 'hello'}, 'id': 'call_p8hKiMLc4KDG8FKZB4ow7qAH', 'type': 'tool_call'}], tool_call_chunks=[{'name': 'hash_string', 'args': '{\"word\":\"hello\"}', 'id': 'call_p8hKiMLc4KDG8FKZB4ow7qAH', 'index': 0, 'type': 'tool_call_chunk'}])"
      ]
     },
     "execution_count": 6,
     "metadata": {},
     "output_type": "execute_result"
    }
   ],
   "source": [
    "from langchain_core.messages import  BaseMessageChunk\n",
    "msg_iterator=llm_with_tools.stream('Get the hash value of the follow word, \"hello\"')\n",
    "\n",
    "\n",
    "first = True\n",
    "gathered = None\n",
    "for chunk in msg_iterator:\n",
    "    print(chunk)\n",
    "    print('---', isinstance(chunk, BaseMessageChunk))\n",
    "    if first:\n",
    "        gathered = chunk\n",
    "        first = False\n",
    "    else:\n",
    "        gathered = gathered + chunk\n",
    "gathered"
   ]
  },
  {
   "cell_type": "code",
   "execution_count": null,
   "id": "c3a763ab-e086-43db-b879-eba1c0707c1e",
   "metadata": {
    "libroFormatter": "formatter-string"
   },
   "outputs": [],
   "source": []
  }
 ],
 "metadata": {},
 "nbformat": 4,
 "nbformat_minor": 5
}
